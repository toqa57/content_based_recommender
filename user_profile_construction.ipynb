{
 "cells": [
  {
   "cell_type": "code",
   "execution_count": 2,
   "id": "5af466c2",
   "metadata": {},
   "outputs": [
    {
     "name": "stdout",
     "output_type": "stream",
     "text": [
      "User profile vector shape: (1, 18635)\n",
      "Saved profile_vector.pkl into ../results/\n"
     ]
    }
   ],
   "source": [
    "# 02_user_profile_construction.ipynb\n",
    "\n",
    "import os\n",
    "import pickle\n",
    "\n",
    "# 1. Ensure results directory exists\n",
    "os.makedirs('../results', exist_ok=True)\n",
    "\n",
    "# 2. Load the fitted TF‑IDF vectorizer and matrix\n",
    "with open('../results/tfidf_vectorizer.pkl', 'rb') as f:\n",
    "    tfidf = pickle.load(f)\n",
    "with open('../results/tfidf_matrix.pkl', 'rb') as f:\n",
    "    tfidf_matrix = pickle.load(f)\n",
    "\n",
    "# 3. Define explicit user preferences\n",
    "#    You can customize these to your real inputs later.\n",
    "preferred_categories = ['Technology', 'Science']\n",
    "preferred_keywords   = ['AI', 'machine learning', 'quantum']\n",
    "\n",
    "# 4. Build a single “document” from those preferences\n",
    "profile_text = \" \".join(preferred_categories + preferred_keywords)\n",
    "\n",
    "# 5. Transform into TF‑IDF vector\n",
    "profile_vector = tfidf.transform([profile_text])\n",
    "print(f\"User profile vector shape: {profile_vector.shape}\")\n",
    "\n",
    "# 6. Save the profile vector for use in the similarity step\n",
    "with open('../results/profile_vector.pkl', 'wb') as f:\n",
    "    pickle.dump(profile_vector, f)\n",
    "\n",
    "print(\"Saved profile_vector.pkl into ../results/\")\n"
   ]
  }
 ],
 "metadata": {
  "kernelspec": {
   "display_name": "Python 3",
   "language": "python",
   "name": "python3"
  },
  "language_info": {
   "codemirror_mode": {
    "name": "ipython",
    "version": 3
   },
   "file_extension": ".py",
   "mimetype": "text/x-python",
   "name": "python",
   "nbconvert_exporter": "python",
   "pygments_lexer": "ipython3",
   "version": "3.9.0"
  }
 },
 "nbformat": 4,
 "nbformat_minor": 5
}
