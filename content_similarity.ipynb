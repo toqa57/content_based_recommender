{
 "cells": [
  {
   "cell_type": "code",
   "execution_count": 14,
   "id": "ce08b311",
   "metadata": {},
   "outputs": [],
   "source": [
    "import pandas as pd\n",
    "import pickle\n",
    "from sklearn.metrics.pairwise import cosine_similarity"
   ]
  },
  {
   "cell_type": "code",
   "execution_count": 15,
   "id": "fe49c960",
   "metadata": {},
   "outputs": [],
   "source": [
    "# 2.1 Load raw article metadata\n",
    "news = pd.read_csv(\n",
    "    '../data/news.tsv/news.tsv',\n",
    "    sep='\\t',\n",
    "    header=None,\n",
    "    names=['newsID','category','subcategory','title','abstract','url','entities','abstract_entities'],\n",
    "    dtype=str\n",
    ")\n",
    "\n",
    "# 2.2 Replicate preprocessing from Notebook 01: drop rows missing title or abstract\n",
    "news = news.dropna(subset=['title','abstract']).reset_index(drop=True)\n",
    "\n",
    "# 2.3 Load saved TF‑IDF matrix and user profile vector\n",
    "with open('../results/tfidf_matrix.pkl','rb') as f:\n",
    "    tfidf_matrix = pickle.load(f)\n",
    "with open('../results/profile_vector.pkl','rb') as f:\n",
    "    profile_vector = pickle.load(f)\n",
    "\n",
    "# Align data\n",
    "if tfidf_matrix.shape[0] != news.shape[0]:\n",
    "    print(f\"Warning: TF-IDF matrix has {tfidf_matrix.shape[0]} rows, news DataFrame has {news.shape[0]} rows. Aligning to the smaller size.\")\n",
    "    min_len = min(tfidf_matrix.shape[0], news.shape[0])\n",
    "    tfidf_matrix = tfidf_matrix[:min_len]\n",
    "    news = news.iloc[:min_len].reset_index(drop=True)"
   ]
  },
  {
   "cell_type": "code",
   "execution_count": 16,
   "id": "600494c9",
   "metadata": {},
   "outputs": [],
   "source": [
    "# Compute similarity scores between the single profile and all articles\n",
    "similarities = cosine_similarity(profile_vector, tfidf_matrix).flatten()\n",
    "\n",
    "# Attach scores to the DataFrame\n",
    "news['similarity'] = similarities"
   ]
  },
  {
   "cell_type": "code",
   "execution_count": 17,
   "id": "bba61b61",
   "metadata": {},
   "outputs": [
    {
     "name": "stdout",
     "output_type": "stream",
     "text": [
      "       newsID                                              title  similarity\n",
      "18377  N34710  Everything We Know About Dinosaur Evolution Ju...    0.295583\n",
      "12442  N23287  This Arctic Expedition Is Freezing a Ship for ...    0.292887\n",
      "5878   N14589  Scientists just witnessed the birth of a heavy...    0.290391\n",
      "28043  N46932  Falling Atoms Are Helping NASA Measure Earth's...    0.290175\n",
      "31088  N18480  Could Ocean Cleanup's New Interceptor Help Sol...    0.287964\n",
      "21864   N6738  Azure goes Quantum at Microsoft Ignite 2019, a...    0.276855\n",
      "9679   N64837  Scientists and researchers reveal 13 dark tech...    0.257430\n",
      "12694  N11176  Why scientists are so excited about \"quantum s...    0.254188\n",
      "4924   N23131              For girls in science, the time is now    0.253235\n",
      "46674  N16211  Microsoft AI helps diagnose cervical cancer fa...    0.246589\n"
     ]
    }
   ],
   "source": [
    "# Display top 10 most similar articles\n",
    "top10 = news.sort_values('similarity', ascending=False).head(10)\n",
    "print(top10[['newsID','title','similarity']])"
   ]
  },
  {
   "cell_type": "code",
   "execution_count": 18,
   "id": "f7222ad9",
   "metadata": {},
   "outputs": [
    {
     "name": "stdout",
     "output_type": "stream",
     "text": [
      "Saved similarity_scores.pkl into ../results/\n"
     ]
    }
   ],
   "source": [
    "with open('../results/similarity_scores.pkl','wb') as f:\n",
    "    pickle.dump(similarities, f)\n",
    "print(\"Saved similarity_scores.pkl into ../results/\")"
   ]
  }
 ],
 "metadata": {
  "kernelspec": {
   "display_name": "Python 3",
   "language": "python",
   "name": "python3"
  },
  "language_info": {
   "codemirror_mode": {
    "name": "ipython",
    "version": 3
   },
   "file_extension": ".py",
   "mimetype": "text/x-python",
   "name": "python",
   "nbconvert_exporter": "python",
   "pygments_lexer": "ipython3",
   "version": "3.9.0"
  }
 },
 "nbformat": 4,
 "nbformat_minor": 5
}
