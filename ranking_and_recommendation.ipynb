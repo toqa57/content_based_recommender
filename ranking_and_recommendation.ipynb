{
 "cells": [
  {
   "cell_type": "code",
   "execution_count": 20,
   "id": "964ba542",
   "metadata": {},
   "outputs": [],
   "source": [
    "import pandas as pd\n",
    "import pickle\n",
    "import matplotlib.pyplot as plt\n",
    "from IPython.display import display"
   ]
  },
  {
   "cell_type": "code",
   "execution_count": 21,
   "id": "4dd7216b",
   "metadata": {},
   "outputs": [],
   "source": [
    "# 2.1 Load article metadata\n",
    "news = pd.read_csv(\n",
    "    '../data/news.tsv/news.tsv',\n",
    "    sep='\\t',\n",
    "    header=None,\n",
    "    names=['newsID','category','subcategory','title','abstract','url','entities','abstract_entities'],\n",
    "    dtype=str\n",
    ")\n",
    "\n",
    "# 2.2 Drop rows missing title/abstract\n",
    "news = news.dropna(subset=['title','abstract']).reset_index(drop=True)\n",
    "\n",
    "# 2.3 Load similarity scores\n",
    "with open('../results/similarity_scores.pkl','rb') as f:\n",
    "    similarities = pickle.load(f)\n",
    "\n",
    "# Align size if needed\n",
    "if len(similarities) != len(news):\n",
    "    print(f\"Warning: similarity length = {len(similarities)}; news rows = {len(news)}. Aligning to smaller size.\")\n",
    "    min_len = min(len(similarities), len(news))\n",
    "    similarities = similarities[:min_len]\n",
    "    news = news.iloc[:min_len].reset_index(drop=True)\n",
    "\n",
    "# Attach similarity scores to news DataFrame\n",
    "news['similarity'] = similarities"
   ]
  },
  {
   "cell_type": "code",
   "execution_count": 22,
   "id": "10cfe732",
   "metadata": {},
   "outputs": [
    {
     "name": "stdout",
     "output_type": "stream",
     "text": [
      "Saved top 10 recommendations to ../results/sample_recommendations.csv\n"
     ]
    }
   ],
   "source": [
    "N = 10  # number of recommendations\n",
    "top_n = news.sort_values('similarity', ascending=False).head(N)\n",
    "\n",
    "# Save to CSV\n",
    "out_path = '../results/sample_recommendations.csv'\n",
    "top_n[['newsID','title','similarity']].to_csv(out_path, index=False)\n",
    "print(f\"Saved top {N} recommendations to {out_path}\")"
   ]
  },
  {
   "cell_type": "code",
   "execution_count": 23,
   "id": "680d7374",
   "metadata": {},
   "outputs": [
    {
     "data": {
      "image/png": "[encoded data removed]",
      "text/plain": [
       "<Figure size 640x480 with 1 Axes>"
      ]
     },
     "metadata": {},
     "output_type": "display_data"
    }
   ],
   "source": [
    "plt.figure()\n",
    "plt.plot(range(1, N+1), top_n['similarity'])\n",
    "plt.xlabel('Rank')\n",
    "plt.ylabel('Cosine Similarity')\n",
    "plt.title('Top-N Recommendation Scores')\n",
    "plt.show()"
   ]
  },
  {
   "cell_type": "code",
   "execution_count": 24,
   "id": "7bb14ef2",
   "metadata": {},
   "outputs": [
    {
     "data": {
      "text/html": [
       "<div>\n",
       "<style scoped>\n",
       "    .dataframe tbody tr th:only-of-type {\n",
       "        vertical-align: middle;\n",
       "    }\n",
       "\n",
       "    .dataframe tbody tr th {\n",
       "        vertical-align: top;\n",
       "    }\n",
       "\n",
       "    .dataframe thead th {\n",
       "        text-align: right;\n",
       "    }\n",
       "</style>\n",
       "<table border=\"1\" class=\"dataframe\">\n",
       "  <thead>\n",
       "    <tr style=\"text-align: right;\">\n",
       "      <th></th>\n",
       "      <th>title</th>\n",
       "      <th>abstract</th>\n",
       "      <th>url</th>\n",
       "    </tr>\n",
       "  </thead>\n",
       "  <tbody>\n",
       "    <tr>\n",
       "      <th>18377</th>\n",
       "      <td>Everything We Know About Dinosaur Evolution Ju...</td>\n",
       "      <td>Elements is more than just a science show. It'...</td>\n",
       "      <td>https://assets.msn.com/labs/mind/AAJGj3g.html</td>\n",
       "    </tr>\n",
       "    <tr>\n",
       "      <th>12442</th>\n",
       "      <td>This Arctic Expedition Is Freezing a Ship for ...</td>\n",
       "      <td>Elements is more than just a science show. It'...</td>\n",
       "      <td>https://assets.msn.com/labs/mind/AAISxKy.html</td>\n",
       "    </tr>\n",
       "    <tr>\n",
       "      <th>5878</th>\n",
       "      <td>Scientists just witnessed the birth of a heavy...</td>\n",
       "      <td>Elements is more than just a science show. It'...</td>\n",
       "      <td>https://assets.msn.com/labs/mind/AAJWuFT.html</td>\n",
       "    </tr>\n",
       "    <tr>\n",
       "      <th>28043</th>\n",
       "      <td>Falling Atoms Are Helping NASA Measure Earth's...</td>\n",
       "      <td>Elements is more than just a science show. It'...</td>\n",
       "      <td>https://assets.msn.com/labs/mind/AAJkO1o.html</td>\n",
       "    </tr>\n",
       "    <tr>\n",
       "      <th>31088</th>\n",
       "      <td>Could Ocean Cleanup's New Interceptor Help Sol...</td>\n",
       "      <td>Elements is more than just a science show. It'...</td>\n",
       "      <td>https://assets.msn.com/labs/mind/BBWt3zs.html</td>\n",
       "    </tr>\n",
       "    <tr>\n",
       "      <th>21864</th>\n",
       "      <td>Azure goes Quantum at Microsoft Ignite 2019, a...</td>\n",
       "      <td>Microsoft CEO Satya Nadella emphasized the imp...</td>\n",
       "      <td>https://assets.msn.com/labs/mind/AAJOReL.html</td>\n",
       "    </tr>\n",
       "    <tr>\n",
       "      <th>9679</th>\n",
       "      <td>Scientists and researchers reveal 13 dark tech...</td>\n",
       "      <td>AI, drones, and self-driving vehicles raise ma...</td>\n",
       "      <td>https://assets.msn.com/labs/mind/AAJBDsq.html</td>\n",
       "    </tr>\n",
       "    <tr>\n",
       "      <th>12694</th>\n",
       "      <td>Why scientists are so excited about \"quantum s...</td>\n",
       "      <td>With a quantum computer, scientists are dippin...</td>\n",
       "      <td>https://assets.msn.com/labs/mind/AAJmUf5.html</td>\n",
       "    </tr>\n",
       "    <tr>\n",
       "      <th>4924</th>\n",
       "      <td>For girls in science, the time is now</td>\n",
       "      <td>Programs in science, technology, engineering, ...</td>\n",
       "      <td>https://assets.msn.com/labs/mind/AAIONIp.html</td>\n",
       "    </tr>\n",
       "    <tr>\n",
       "      <th>46674</th>\n",
       "      <td>Microsoft AI helps diagnose cervical cancer fa...</td>\n",
       "      <td>In some cases, AI-assisted cancer detection mi...</td>\n",
       "      <td>https://assets.msn.com/labs/mind/BBWyHwV.html</td>\n",
       "    </tr>\n",
       "  </tbody>\n",
       "</table>\n",
       "</div>"
      ],
      "text/plain": [
       "                                                   title  \\\n",
       "18377  Everything We Know About Dinosaur Evolution Ju...   \n",
       "12442  This Arctic Expedition Is Freezing a Ship for ...   \n",
       "5878   Scientists just witnessed the birth of a heavy...   \n",
       "28043  Falling Atoms Are Helping NASA Measure Earth's...   \n",
       "31088  Could Ocean Cleanup's New Interceptor Help Sol...   \n",
       "21864  Azure goes Quantum at Microsoft Ignite 2019, a...   \n",
       "9679   Scientists and researchers reveal 13 dark tech...   \n",
       "12694  Why scientists are so excited about \"quantum s...   \n",
       "4924               For girls in science, the time is now   \n",
       "46674  Microsoft AI helps diagnose cervical cancer fa...   \n",
       "\n",
       "                                                abstract  \\\n",
       "18377  Elements is more than just a science show. It'...   \n",
       "12442  Elements is more than just a science show. It'...   \n",
       "5878   Elements is more than just a science show. It'...   \n",
       "28043  Elements is more than just a science show. It'...   \n",
       "31088  Elements is more than just a science show. It'...   \n",
       "21864  Microsoft CEO Satya Nadella emphasized the imp...   \n",
       "9679   AI, drones, and self-driving vehicles raise ma...   \n",
       "12694  With a quantum computer, scientists are dippin...   \n",
       "4924   Programs in science, technology, engineering, ...   \n",
       "46674  In some cases, AI-assisted cancer detection mi...   \n",
       "\n",
       "                                                 url  \n",
       "18377  https://assets.msn.com/labs/mind/AAJGj3g.html  \n",
       "12442  https://assets.msn.com/labs/mind/AAISxKy.html  \n",
       "5878   https://assets.msn.com/labs/mind/AAJWuFT.html  \n",
       "28043  https://assets.msn.com/labs/mind/AAJkO1o.html  \n",
       "31088  https://assets.msn.com/labs/mind/BBWt3zs.html  \n",
       "21864  https://assets.msn.com/labs/mind/AAJOReL.html  \n",
       "9679   https://assets.msn.com/labs/mind/AAJBDsq.html  \n",
       "12694  https://assets.msn.com/labs/mind/AAJmUf5.html  \n",
       "4924   https://assets.msn.com/labs/mind/AAIONIp.html  \n",
       "46674  https://assets.msn.com/labs/mind/BBWyHwV.html  "
      ]
     },
     "metadata": {},
     "output_type": "display_data"
    }
   ],
   "source": [
    "# Show title, abstract, and URL for each recommendation\n",
    "display(top_n[['title','abstract','url']])"
   ]
  },
  {
   "cell_type": "code",
   "execution_count": null,
   "id": "9828ec94",
   "metadata": {},
   "outputs": [],
   "source": []
  },
  {
   "cell_type": "code",
   "execution_count": null,
   "id": "36508dcb",
   "metadata": {},
   "outputs": [],
   "source": []
  },
  {
   "cell_type": "code",
   "execution_count": null,
   "id": "ce33716d",
   "metadata": {},
   "outputs": [],
   "source": []
  }
 ],
 "metadata": {
  "kernelspec": {
   "display_name": "Python 3",
   "language": "python",
   "name": "python3"
  },
  "language_info": {
   "codemirror_mode": {
    "name": "ipython",
    "version": 3
   },
   "file_extension": ".py",
   "mimetype": "text/x-python",
   "name": "python",
   "nbconvert_exporter": "python",
   "pygments_lexer": "ipython3",
   "version": "3.9.0"
  }
 },
 "nbformat": 4,
 "nbformat_minor": 5
}
